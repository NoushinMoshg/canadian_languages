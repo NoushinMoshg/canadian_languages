{
 "cells": [
  {
   "cell_type": "markdown",
   "id": "e863f5ab-60d9-4e65-a354-c1467a38aa72",
   "metadata": {},
   "source": [
    "**Canadian_languages**"
   ]
  },
  {
   "cell_type": "code",
   "execution_count": null,
   "id": "4db8a085-7ee1-494a-bba3-a622fe4f2c7c",
   "metadata": {},
   "outputs": [],
   "source": [
    "Welcome to candian languages"
   ]
  }
 ],
 "metadata": {
  "kernelspec": {
   "display_name": "Python 3 (ipykernel)",
   "language": "python",
   "name": "python3"
  },
  "language_info": {
   "codemirror_mode": {
    "name": "ipython",
    "version": 3
   },
   "file_extension": ".py",
   "mimetype": "text/x-python",
   "name": "python",
   "nbconvert_exporter": "python",
   "pygments_lexer": "ipython3",
   "version": "3.9.12"
  }
 },
 "nbformat": 4,
 "nbformat_minor": 5
}
